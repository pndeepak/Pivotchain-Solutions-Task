{
  "nbformat": 4,
  "nbformat_minor": 0,
  "metadata": {
    "colab": {
      "name": "keras_implementation_for_reference.ipynb",
      "provenance": []
    },
    "kernelspec": {
      "name": "python3",
      "display_name": "Python 3"
    }
  },
  "cells": [
    {
      "cell_type": "markdown",
      "metadata": {
        "id": "48Zj9TPLdMhS"
      },
      "source": [
        "<h1><b><center> Keras implementation for reference<center><b><h1>"
      ]
    },
    {
      "cell_type": "markdown",
      "metadata": {
        "id": "HQL-RjUHdXQ-"
      },
      "source": [
        "This notebook is created with the sole purpose to compare our neural network model implemented from scratch with the actual Keras implementation"
      ]
    },
    {
      "cell_type": "markdown",
      "metadata": {
        "id": "ci3ldejedF0L"
      },
      "source": [
        "### Importing the necessary libraries"
      ]
    },
    {
      "cell_type": "code",
      "metadata": {
        "id": "OpE4eqAVdiyY"
      },
      "source": [
        "import numpy as np\n",
        "import matplotlib.pyplot as plt\n",
        "from keras.layers import Dense\n",
        "from keras.models import Sequential\n",
        "from sklearn.preprocessing import MinMaxScaler\n",
        "from sklearn.metrics import mean_squared_error"
      ],
      "execution_count": 1,
      "outputs": []
    },
    {
      "cell_type": "markdown",
      "metadata": {
        "id": "LtpGRm1_dGsW"
      },
      "source": [
        "### Getting the input data"
      ]
    },
    {
      "cell_type": "code",
      "metadata": {
        "id": "y5YyKxIedpJb"
      },
      "source": [
        "x = np.arange(0, 100)\n",
        "y = np.square(x)\n",
        "\n",
        "x = x.reshape((len(x), 1))\n",
        "y = y.reshape((len(y), 1))"
      ],
      "execution_count": 2,
      "outputs": []
    },
    {
      "cell_type": "markdown",
      "metadata": {
        "id": "kJPdE3rQdqmc"
      },
      "source": [
        "### Normalizing the data"
      ]
    },
    {
      "cell_type": "code",
      "metadata": {
        "id": "_LPYlrZ5dtb4"
      },
      "source": [
        "x_scale = MinMaxScaler()\n",
        "x = x_scale.fit_transform(x)\n",
        "y_scale = MinMaxScaler()\n",
        "y = y_scale.fit_transform(y)"
      ],
      "execution_count": 3,
      "outputs": []
    },
    {
      "cell_type": "markdown",
      "metadata": {
        "id": "UjccgQQkdGfI"
      },
      "source": [
        "### Implementing our keras model"
      ]
    },
    {
      "cell_type": "code",
      "metadata": {
        "colab": {
          "base_uri": "https://localhost:8080/"
        },
        "id": "6BrvBjLedyzU",
        "outputId": "f206d595-46d8-4cd8-8ed2-1dc5b3aa0b7b"
      },
      "source": [
        "model = Sequential()\n",
        "model.add(Dense(10, input_dim=1, activation='relu', kernel_initializer='he_uniform'))\n",
        "model.add(Dense(1, activation='linear', kernel_initializer='glorot_uniform'))\n",
        "print(model.summary())"
      ],
      "execution_count": 4,
      "outputs": [
        {
          "output_type": "stream",
          "text": [
            "Model: \"sequential\"\n",
            "_________________________________________________________________\n",
            "Layer (type)                 Output Shape              Param #   \n",
            "=================================================================\n",
            "dense (Dense)                (None, 10)                20        \n",
            "_________________________________________________________________\n",
            "dense_1 (Dense)              (None, 1)                 11        \n",
            "=================================================================\n",
            "Total params: 31\n",
            "Trainable params: 31\n",
            "Non-trainable params: 0\n",
            "_________________________________________________________________\n",
            "None\n"
          ],
          "name": "stdout"
        }
      ]
    },
    {
      "cell_type": "code",
      "metadata": {
        "colab": {
          "base_uri": "https://localhost:8080/"
        },
        "id": "M7332uYYd4mI",
        "outputId": "53d36df5-cdfc-436c-8e20-3fca94c4424f"
      },
      "source": [
        "model.compile(loss='mse', optimizer='sgd')\n",
        "model.fit(x, y, epochs=10000, verbose=0)"
      ],
      "execution_count": 5,
      "outputs": [
        {
          "output_type": "execute_result",
          "data": {
            "text/plain": [
              "<tensorflow.python.keras.callbacks.History at 0x7f26e58e5fd0>"
            ]
          },
          "metadata": {
            "tags": []
          },
          "execution_count": 5
        }
      ]
    },
    {
      "cell_type": "markdown",
      "metadata": {
        "id": "wEUX8PBSdGaV"
      },
      "source": [
        "### Prediction and loss calculation"
      ]
    },
    {
      "cell_type": "code",
      "metadata": {
        "colab": {
          "base_uri": "https://localhost:8080/"
        },
        "id": "aZBcaKAad_a2",
        "outputId": "f168cb6f-19c1-4fcf-de9c-6219d3f8ce2f"
      },
      "source": [
        "y_pred = model.predict(x)\n",
        "print('MSE: %.6f' % mean_squared_error(y, y_pred))"
      ],
      "execution_count": 6,
      "outputs": [
        {
          "output_type": "stream",
          "text": [
            "MSE: 0.000124\n"
          ],
          "name": "stdout"
        }
      ]
    },
    {
      "cell_type": "markdown",
      "metadata": {
        "id": "QlhKF7zjdGU6"
      },
      "source": [
        "### Plotting results"
      ]
    },
    {
      "cell_type": "code",
      "metadata": {
        "colab": {
          "base_uri": "https://localhost:8080/",
          "height": 404
        },
        "id": "n05f1l3aZo3A",
        "outputId": "654c5667-032b-4ae8-e01d-7458d965d62a"
      },
      "source": [
        "plt.figure(figsize=(8, 6))\n",
        "plt.plot(x, y, 'r', label='Actual', linewidth=5)\n",
        "plt.plot(x, y_pred, 'g', label='Predicted', linewidth=5)\n",
        "plt.title('Predicted vs Actual')\n",
        "plt.xlabel('Input Variable (x)')\n",
        "plt.ylabel('Output Variable (y)')\n",
        "plt.legend()\n",
        "plt.show()"
      ],
      "execution_count": 7,
      "outputs": [
        {
          "output_type": "display_data",
          "data": {
            "image/png": "[encoded data removed]",
            "text/plain": [
              "<Figure size 576x432 with 1 Axes>"
            ]
          },
          "metadata": {
            "tags": [],
            "needs_background": "light"
          }
        }
      ]
    }
  ]
}